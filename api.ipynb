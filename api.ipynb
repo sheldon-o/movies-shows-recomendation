{
  "nbformat": 4,
  "nbformat_minor": 0,
  "metadata": {
    "colab": {
      "name": "api.ipynb",
      "provenance": [],
      "collapsed_sections": [],
      "authorship_tag": "ABX9TyNpns7uzTew21yfjVlIQmb1",
      "include_colab_link": true
    },
    "kernelspec": {
      "name": "python3",
      "display_name": "Python 3"
    },
    "language_info": {
      "name": "python"
    }
  },
  "cells": [
    {
      "cell_type": "markdown",
      "metadata": {
        "id": "view-in-github",
        "colab_type": "text"
      },
      "source": [
        "<a href=\"https://colab.research.google.com/github/sheldon-o/movies-shows-recomendation/blob/master/api.ipynb\" target=\"_parent\"><img src=\"https://colab.research.google.com/assets/colab-badge.svg\" alt=\"Open In Colab\"/></a>"
      ]
    },
    {
      "cell_type": "code",
      "metadata": {
        "id": "wCBNHwdBXOpv"
      },
      "source": [
        "#this project is using different websites api to access their data and recommend\n",
        "#movies and web shows\n",
        "\n",
        "#first we will use tastedrive api to fetch movies\n",
        "\n",
        "#  https://tastedive.com/read/api     taste drive api\n",
        "#  https://www.omdbapi.com/           OMDB api\n",
        "#check these pages for keys of api's\n",
        "\n",
        "\n",
        "\n",
        "\n",
        "\n",
        "\n",
        "\n",
        " \n"
      ],
      "execution_count": 1,
      "outputs": []
    },
    {
      "cell_type": "code",
      "metadata": {
        "id": "3xvt4dlzfY1l"
      },
      "source": [
        "pip install requests"
      ],
      "execution_count": null,
      "outputs": []
    },
    {
      "cell_type": "code",
      "metadata": {
        "id": "SAp8Qd1GbQ3J"
      },
      "source": [
        "import requests\n",
        "import json\n"
      ],
      "execution_count": 36,
      "outputs": []
    },
    {
      "cell_type": "code",
      "metadata": {
        "id": "fxG5krdFaCRY"
      },
      "source": [
        "def get_movies_from_taste_drive(str):\n",
        "  PARAMS = {}\n",
        "\n",
        "  PARAMS['q']=str\n",
        "  PARAMS['type'] = \"movies\"\n",
        "  PARAMS['limit'] = 5\n",
        "  #PARAMS = {'q':q,'type':type,'limit':limit}\n",
        "  key = \"https://tastedive.com/api/similar\"\n",
        "  resp = requests.get(key, params=PARAMS)\n",
        "  print(resp)\n",
        "  print(resp.url)\n",
        "\n",
        "  \n",
        " # print(\"test\")\n",
        "  return resp.json()\n",
        "  \n"
      ],
      "execution_count": 39,
      "outputs": []
    },
    {
      "cell_type": "code",
      "metadata": {
        "id": "p_Mpo48FdE19"
      },
      "source": [
        "get_movies_from_taste_drive(\"Black Panther\")"
      ],
      "execution_count": null,
      "outputs": []
    },
    {
      "cell_type": "markdown",
      "metadata": {
        "id": "LVvcS4Climhd"
      },
      "source": [
        "now from the output we will fetch the movies name only : \n"
      ]
    },
    {
      "cell_type": "code",
      "metadata": {
        "colab": {
          "base_uri": "https://localhost:8080/"
        },
        "id": "v6Ap4y0Mi0vR",
        "outputId": "dac341c3-831c-4deb-8f1f-28c29e69e22b"
      },
      "source": [
        "def extract_movies_titles(func):\n",
        "  nest1 = func['Similar']\n",
        "  nest2 = nest1['Results']\n",
        "  output=[]\n",
        "  for i in nest2:\n",
        "    output.append(i['Name'])\n",
        "\n",
        " # print(output)\n",
        "  return output\n",
        "\n",
        " \n",
        "extract_movies_titles(get_movies_from_taste_drive(\"Black Panther\"))\n",
        "extract_movies_titles(get_movies_from_taste_drive(\"Captain Marvel\"))\n"
      ],
      "execution_count": 61,
      "outputs": [
        {
          "output_type": "stream",
          "text": [
            "<Response [200]>\n",
            "https://tastedive.com/api/similar?q=Black+Panther&type=movies&limit=5\n",
            "test\n",
            "['Guardians Of The Galaxy Vol. 2', 'Thor: Ragnarok', 'Ant-Man And The Wasp', 'Rampage', 'Deadpool 2']\n",
            "<Response [200]>\n",
            "https://tastedive.com/api/similar?q=Captain+Marvel&type=movies&limit=5\n",
            "test\n",
            "['Avengers: Infinity War', 'Aquaman', 'Avengers: Endgame', 'Spider-Man: Far From Home', 'Ant-Man And The Wasp']\n"
          ],
          "name": "stdout"
        },
        {
          "output_type": "execute_result",
          "data": {
            "text/plain": [
              "['Avengers: Infinity War',\n",
              " 'Aquaman',\n",
              " 'Avengers: Endgame',\n",
              " 'Spider-Man: Far From Home',\n",
              " 'Ant-Man And The Wasp']"
            ]
          },
          "metadata": {
            "tags": []
          },
          "execution_count": 61
        }
      ]
    },
    {
      "cell_type": "markdown",
      "metadata": {
        "id": "Sp_7Htrup7ew"
      },
      "source": [
        "for some movies we get a recommendation more than once so we have to fix it\n"
      ]
    },
    {
      "cell_type": "code",
      "metadata": {
        "id": "fe9pX-8kqMzT"
      },
      "source": [
        "def get_related_titles(lst):\n",
        "  output=[]\n",
        "  for i in lst:\n",
        "    gmftd = get_movies_from_taste_drive(i)\n",
        "    emt = extract_movies_titles(gmftd)\n",
        "    for j in emt:\n",
        "      if j not in output:\n",
        "        output.append(j)\n",
        "  #print(output)\n",
        "get_related_titles([\"Black Panther\", \"Captain Marvel\"])\n"
      ],
      "execution_count": null,
      "outputs": []
    },
    {
      "cell_type": "code",
      "metadata": {
        "colab": {
          "base_uri": "https://localhost:8080/"
        },
        "id": "PRwqM8JavwsN",
        "outputId": "0060cf0d-fcd9-443a-e365-a9ead0ec1e61"
      },
      "source": [
        "#this function will take a string (moviename) and return information about the\n",
        "# movie in dictionary format\n",
        "def get_movie_data(str):\n",
        "  #baseurl = \"http://www.omdbapi.com/\"\n",
        "  baseurl =\"http://www.omdbapi.com?apikey=eacb9159\"\n",
        "  PARAMS = {}\n",
        "  PARAMS['t']=str\n",
        "  PARAMS['r']=\"json\"\n",
        "  resp = requests.get(baseurl, params=PARAMS)\n",
        "  return resp.json()\n",
        "print(get_movie_data(\"Venom\"))\n",
        "\n"
      ],
      "execution_count": 85,
      "outputs": [
        {
          "output_type": "stream",
          "text": [
            "{'Title': 'Venom', 'Year': '2018', 'Rated': 'PG-13', 'Released': '05 Oct 2018', 'Runtime': '112 min', 'Genre': 'Action, Adventure, Sci-Fi', 'Director': 'Ruben Fleischer', 'Writer': \"Jeff Pinkner (screenplay by), Scott Rosenberg (screenplay by), Kelly Marcel (screenplay by), Jeff Pinkner (screen story by), Scott Rosenberg (screen story by), Todd McFarlane (Marvel's Venom Character created by), David Michelinie (Marvel's Venom Character created by)\", 'Actors': 'Tom Hardy, Michelle Williams, Riz Ahmed, Scott Haze', 'Plot': 'A failed reporter is bonded to an alien entity, one of many symbiotes who have invaded Earth. But the being takes a liking to Earth and decides to protect it.', 'Language': 'English, Mandarin, Malay', 'Country': 'China, USA', 'Awards': '3 wins & 9 nominations.', 'Poster': 'https://m.media-amazon.com/images/M/MV5BNzAwNzUzNjY4MV5BMl5BanBnXkFtZTgwMTQ5MzM0NjM@._V1_SX300.jpg', 'Ratings': [{'Source': 'Internet Movie Database', 'Value': '6.7/10'}, {'Source': 'Rotten Tomatoes', 'Value': '29%'}, {'Source': 'Metacritic', 'Value': '35/100'}], 'Metascore': '35', 'imdbRating': '6.7', 'imdbVotes': '382,865', 'imdbID': 'tt1270797', 'Type': 'movie', 'DVD': '18 Jun 2019', 'BoxOffice': '$213,515,506', 'Production': 'Pascal Pictures, Columbia Pictures, Tencent Pictures, Marvel Entertainment', 'Website': 'N/A', 'Response': 'True'}\n"
          ],
          "name": "stdout"
        }
      ]
    },
    {
      "cell_type": "code",
      "metadata": {
        "colab": {
          "base_uri": "https://localhost:8080/"
        },
        "id": "3VRxAgjn5FQF",
        "outputId": "ecc2115d-947b-47ed-aa61-a587c5ce0475"
      },
      "source": [
        "#\n",
        "\n",
        "def get_movie_rating(dic):\n",
        "  print(dic.keys())\n",
        "  nest = dic[\"Ratings\"]\n",
        "  print(nest)\n",
        "  for i in nest:\n",
        "    if i['Source']==\"Rotten Tomatoes\":\n",
        "      return int(i[\"Value\"].strip(\"%\"))\n",
        "\n",
        "  \n",
        "get_movie_rating(get_movie_data(\"venom\"))\n"
      ],
      "execution_count": 93,
      "outputs": [
        {
          "output_type": "stream",
          "text": [
            "dict_keys(['Title', 'Year', 'Rated', 'Released', 'Runtime', 'Genre', 'Director', 'Writer', 'Actors', 'Plot', 'Language', 'Country', 'Awards', 'Poster', 'Ratings', 'Metascore', 'imdbRating', 'imdbVotes', 'imdbID', 'Type', 'DVD', 'BoxOffice', 'Production', 'Website', 'Response'])\n",
            "[{'Source': 'Internet Movie Database', 'Value': '6.7/10'}, {'Source': 'Rotten Tomatoes', 'Value': '29%'}, {'Source': 'Metacritic', 'Value': '35/100'}]\n"
          ],
          "name": "stdout"
        },
        {
          "output_type": "execute_result",
          "data": {
            "text/plain": [
              "29"
            ]
          },
          "metadata": {
            "tags": []
          },
          "execution_count": 93
        }
      ]
    }
  ]
}