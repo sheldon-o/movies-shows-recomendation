{
  "nbformat": 4,
  "nbformat_minor": 0,
  "metadata": {
    "colab": {
      "name": "api.ipynb",
      "provenance": [],
      "collapsed_sections": [],
      "authorship_tag": "ABX9TyPr0tjGBxTySYhD+kKx4ynd",
      "include_colab_link": true
    },
    "kernelspec": {
      "name": "python3",
      "display_name": "Python 3"
    },
    "language_info": {
      "name": "python"
    }
  },
  "cells": [
    {
      "cell_type": "markdown",
      "metadata": {
        "id": "view-in-github",
        "colab_type": "text"
      },
      "source": [
        "<a href=\"https://colab.research.google.com/github/sheldon-o/movies-shows-recomendation/blob/master/api.ipynb\" target=\"_parent\"><img src=\"https://colab.research.google.com/assets/colab-badge.svg\" alt=\"Open In Colab\"/></a>"
      ]
    },
    {
      "cell_type": "code",
      "metadata": {
        "id": "wCBNHwdBXOpv"
      },
      "source": [
        "#this project is using different websites api to access their data and recommend\n",
        "#movies and web shows\n",
        "\n",
        "#first we will use tastedrive api to fetch movies\n",
        "\n",
        "#  https://tastedive.com/read/api\n",
        "\n",
        "\n",
        "\n",
        "\n",
        "\n",
        "\n",
        "\n",
        " \n"
      ],
      "execution_count": 1,
      "outputs": []
    },
    {
      "cell_type": "code",
      "metadata": {
        "colab": {
          "base_uri": "https://localhost:8080/",
          "height": 0
        },
        "id": "3xvt4dlzfY1l",
        "outputId": "f5f8da3e-33d1-4607-c083-70609f0c04af"
      },
      "source": [
        "pip install requests"
      ],
      "execution_count": 23,
      "outputs": [
        {
          "output_type": "stream",
          "text": [
            "Requirement already satisfied: requests in /usr/local/lib/python3.7/dist-packages (2.23.0)\n",
            "Requirement already satisfied: urllib3!=1.25.0,!=1.25.1,<1.26,>=1.21.1 in /usr/local/lib/python3.7/dist-packages (from requests) (1.24.3)\n",
            "Requirement already satisfied: idna<3,>=2.5 in /usr/local/lib/python3.7/dist-packages (from requests) (2.10)\n",
            "Requirement already satisfied: chardet<4,>=3.0.2 in /usr/local/lib/python3.7/dist-packages (from requests) (3.0.4)\n",
            "Requirement already satisfied: certifi>=2017.4.17 in /usr/local/lib/python3.7/dist-packages (from requests) (2021.5.30)\n"
          ],
          "name": "stdout"
        }
      ]
    },
    {
      "cell_type": "code",
      "metadata": {
        "id": "SAp8Qd1GbQ3J"
      },
      "source": [
        "import requests\n",
        "import json\n"
      ],
      "execution_count": 36,
      "outputs": []
    },
    {
      "cell_type": "code",
      "metadata": {
        "id": "fxG5krdFaCRY"
      },
      "source": [
        "def get_movies_from_taste_drive(str):\n",
        "  PARAMS = {}\n",
        "\n",
        "  PARAMS['q']=str\n",
        "  PARAMS['type'] = \"movies\"\n",
        "  PARAMS['limit'] = 5\n",
        "  #PARAMS = {'q':q,'type':type,'limit':limit}\n",
        "  key = \"https://tastedive.com/api/similar\"\n",
        "  resp = requests.get(key, params=PARAMS)\n",
        "  print(resp)\n",
        "  print(resp.url)\n",
        "\n",
        "  \n",
        "  print(\"test\")\n",
        "  return resp.json()\n",
        "  \n"
      ],
      "execution_count": 39,
      "outputs": []
    },
    {
      "cell_type": "code",
      "metadata": {
        "colab": {
          "base_uri": "https://localhost:8080/"
        },
        "id": "p_Mpo48FdE19",
        "outputId": "07f1ee86-1eb2-4d66-a968-80ce610eac38"
      },
      "source": [
        "get_movies_from_taste_drive(\"Black Panther\")"
      ],
      "execution_count": 40,
      "outputs": [
        {
          "output_type": "stream",
          "text": [
            "<Response [200]>\n",
            "https://tastedive.com/api/similar?q=Black+Panther&type=movies&limit=5\n",
            "test\n"
          ],
          "name": "stdout"
        },
        {
          "output_type": "execute_result",
          "data": {
            "text/plain": [
              "{'Similar': {'Info': [{'Name': 'Black Panther', 'Type': 'movie'}],\n",
              "  'Results': [{'Name': 'Guardians Of The Galaxy Vol. 2', 'Type': 'movie'},\n",
              "   {'Name': 'Thor: Ragnarok', 'Type': 'movie'},\n",
              "   {'Name': 'Ant-Man And The Wasp', 'Type': 'movie'},\n",
              "   {'Name': 'Rampage', 'Type': 'movie'},\n",
              "   {'Name': 'Deadpool 2', 'Type': 'movie'}]}}"
            ]
          },
          "metadata": {
            "tags": []
          },
          "execution_count": 40
        }
      ]
    }
  ]
}